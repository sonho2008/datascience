{
 "cells": [
  {
   "cell_type": "code",
   "execution_count": 1,
   "metadata": {
    "slideshow": {
     "slide_type": "skip"
    }
   },
   "outputs": [
    {
     "name": "stdout",
     "output_type": "stream",
     "text": [
      "(11, 11)\n",
      "[  -2.07346858   -2.99140114  -19.18316512  -67.76437496  111.410094\n",
      "  440.70170094  -59.29218713 -843.35230004 -319.40896865  518.58975313\n",
      "  340.45971226]\n",
      "[-2.220364   -4.82575537  2.45851511  8.03859672 -0.          0.\n",
      " -0.          0.         -0.          0.         -0.        ]\n"
     ]
    }
   ],
   "source": [
    "import numpy as np\n",
    "from sklearn.linear_model import LinearRegression\n",
    "from sklearn.linear_model import Lasso\n",
    "import matplotlib.pyplot as plt\n",
    "from scipy.stats.distributions import norm\n",
    "import seaborn as sns\n",
    "sns.set_style('darkgrid')\n",
    "\n",
    "def plot_gaussian_density():\n",
    "    fig, ax = plt.subplots(1,1, figsize=(4,3))\n",
    "    dom = np.linspace(-3.0, 3.0, num=50)\n",
    "    ax.plot(dom, norm.pdf(dom))\n",
    "    plt.show()\n",
    "\n",
    "n = 11\n",
    "np.random.seed(5)    \n",
    "x = np.random.uniform(low=-1.0, high=1.0, size=n)\n",
    "y = 10*((x-0.9)*(x+0.3)*(x+0.9) + (0.2*x)) + np.random.normal(scale=0.3, size=n)\n",
    "\n",
    "def scatter_plot_data(x_=x, y_=y):\n",
    "    fig, ax = plt.subplots(1,1, figsize=(7,5))\n",
    "    ax.scatter(x_, y_); plt.show()\n",
    "    \n",
    "def to_pows(x_, maxd=10):\n",
    "    x_ = x_.flatten()\n",
    "    X_arr = np.concatenate([np.power(x_, i).reshape([-1,1]) for i in range(maxd+1)],\n",
    "                           axis=1)\n",
    "    return X_arr    \n",
    "\n",
    "X_arr = to_pows(x)\n",
    "print(X_arr.shape)\n",
    "\n",
    "lr = LinearRegression(fit_intercept=False)\n",
    "lr.fit(X_arr, y)\n",
    "\n",
    "lasso = Lasso(fit_intercept=False, alpha=0.007)\n",
    "lasso.fit(X_arr, y)\n",
    "\n",
    "def plot_models(models, x_=x, y_=y,\n",
    "               extra=0.2, x_pad=0.3, y_pad=0.5):\n",
    "    global lr, lasso\n",
    "    fig, ax = plt.subplots(1,len(models), figsize=(14,5))\n",
    "    dom = np.linspace(x_.min()-extra, x_.max()+extra, num=100).reshape([-1,1])\n",
    "    for i, k in enumerate(models.keys()):\n",
    "        ax[i].set_xlim([x_.min()-x_pad, x_.max()+x_pad])\n",
    "        ax[i].set_ylim([y_.min()-y_pad, y_.max()+y_pad])\n",
    "        label = \"{}\".format(k)\n",
    "        ax[i].scatter(x_, y_)\n",
    "        ax[i].plot(dom.flatten(), models[k].predict(to_pows(dom)), color='C'+str(i+1), label=label)\n",
    "        ax[i].legend()\n",
    "    #plt.legend()\n",
    "    plt.show()\n",
    "    \n",
    "print(lr.coef_)\n",
    "print(lasso.coef_)    \n"
   ]
  },
  {
   "cell_type": "markdown",
   "metadata": {
    "slideshow": {
     "slide_type": "slide"
    }
   },
   "source": [
    "# Formulating machine learning objectives with MLE and MAP"
   ]
  },
  {
   "cell_type": "markdown",
   "metadata": {
    "slideshow": {
     "slide_type": "fragment"
    }
   },
   "source": [
    "- MLE : Maximum likelihood estimate\n",
    "- MAP : Maximum a posteriori"
   ]
  },
  {
   "cell_type": "markdown",
   "metadata": {
    "slideshow": {
     "slide_type": "slide"
    }
   },
   "source": [
    "### Linear regression:\n",
    "Given data set $\\mathcal{D} = (\\mathbf{x}^{(1)}, y^{(1)}), ..., (\\mathbf{x}^{(m)}, y^{(m)})$,\n",
    "we want to learn vector of coefficients ${\\Theta}$ so that:\n",
    "$$\\large\n",
    "y = \\mathbf{\\Theta}^T\\mathbf{x} + \\epsilon\n",
    "$$\n",
    "equivalently,\n",
    "$$\\large\n",
    "y = \\theta_0 + \\theta_1 x_1 + ... + \\theta_d x_d + \\epsilon\n",
    "$$\n"
   ]
  },
  {
   "cell_type": "markdown",
   "metadata": {
    "slideshow": {
     "slide_type": "fragment"
    }
   },
   "source": [
    "* $\\mathbf{x}^{(i)} = (x^{(i)}_0,..., x^{(i)}_d)$ are the input feature vectors.\n",
    "* $\\Theta = (\\theta_0, ..., \\theta_d)$ is the vector of coefficients, also called the model parameters.\n",
    "* The error $\\epsilon$ is $\\mathcal{N}(0, \\sigma^2)$ (normally distributed with mean $0$)"
   ]
  },
  {
   "cell_type": "markdown",
   "metadata": {
    "slideshow": {
     "slide_type": "slide"
    }
   },
   "source": [
    "### Linear regression:\n",
    "$$y = \\mathbf{\\Theta}^T\\mathbf{x} + \\epsilon = \\theta_0 + \\theta_1 x_1 + ... + \\theta_d x_d + \\epsilon\n",
    "$$\n",
    "Goal: we want to minimize this\n",
    "$$\\text{Loss} = \\frac{1}{m} \\sum_{i=1}^m {(y^{(i)} - \\Theta^T\\mathbf{x}^{(i)} )^2}\n",
    "$$\n",
    "This is the _least-squares_ objective."
   ]
  },
  {
   "cell_type": "markdown",
   "metadata": {
    "slideshow": {
     "slide_type": "fragment"
    }
   },
   "source": [
    "**Question:** Why is this the right objective to minimize? Why not\n",
    "$$\\frac{1}{m} \\sum_{i=1}^m |y^{(i)} - \\Theta \\mathbf{x}^{(i)}| $$\n",
    "Or\n",
    "$$\\frac{1}{m} \\sum_{i=1}^m (y^{(i)} - \\Theta \\mathbf{x}^{(i)})^4 $$ ?\n"
   ]
  },
  {
   "cell_type": "markdown",
   "metadata": {
    "slideshow": {
     "slide_type": "slide"
    }
   },
   "source": [
    "### Lasso regression:\n",
    "Similar to basic linear regression, but with objective of minimizing:\n",
    "$$\\text{Loss} = \\frac{1}{m}\\left(\\sum_{i=1}^m {(y^{(i)} - \\Theta^T\\mathbf{x}^{(i)} )^2} \\right) + \\left(\\alpha  \\sum_{i=0}^d \\theta_d\\right)\n",
    "$$\n",
    "\n",
    "- $\\left(\\alpha  \\sum_{i=0}^d \\theta_d \\right)$ is the regularization term.\n"
   ]
  },
  {
   "cell_type": "markdown",
   "metadata": {
    "slideshow": {
     "slide_type": "fragment"
    }
   },
   "source": [
    "\n",
    "- **Question:** What's a better explanation for the regularization term:   $\\left(\\alpha  \\sum_{i=0}^d \\theta_d\\right)$,  besides the fact that it works well?\n"
   ]
  },
  {
   "cell_type": "code",
   "execution_count": 2,
   "metadata": {
    "slideshow": {
     "slide_type": "slide"
    }
   },
   "outputs": [
    {
     "data": {
      "image/png": "[encoded data removed]",
      "text/plain": [
       "<matplotlib.figure.Figure at 0x7fea833ad0d0>"
      ]
     },
     "metadata": {
      "needs_background": "light"
     },
     "output_type": "display_data"
    }
   ],
   "source": [
    "# Linear and Lasso regression demo\n",
    "scatter_plot_data()"
   ]
  },
  {
   "cell_type": "markdown",
   "metadata": {
    "slideshow": {
     "slide_type": "fragment"
    }
   },
   "source": [
    "We will fit a polynomial of degree $ \\le 10$ to the data using simple Linear regression and Lasso regression."
   ]
  },
  {
   "cell_type": "code",
   "execution_count": 3,
   "metadata": {
    "slideshow": {
     "slide_type": "slide"
    }
   },
   "outputs": [
    {
     "data": {
      "image/png": "[encoded data removed]",
      "text/plain": [
       "<matplotlib.figure.Figure at 0x7fea39d1d690>"
      ]
     },
     "metadata": {
      "needs_background": "light"
     },
     "output_type": "display_data"
    }
   ],
   "source": [
    "plot_models({'LR': lr, 'Lasso':lasso})"
   ]
  },
  {
   "cell_type": "code",
   "execution_count": 4,
   "metadata": {
    "slideshow": {
     "slide_type": "fragment"
    }
   },
   "outputs": [
    {
     "name": "stdout",
     "output_type": "stream",
     "text": [
      "[  -2.07346858   -2.99140114  -19.18316512  -67.76437496  111.410094\n",
      "  440.70170094  -59.29218713 -843.35230004 -319.40896865  518.58975313\n",
      "  340.45971226]\n",
      "[-2.220364   -4.82575537  2.45851511  8.03859672 -0.          0.\n",
      " -0.          0.         -0.          0.         -0.        ]\n"
     ]
    }
   ],
   "source": [
    "print(lr.coef_)\n",
    "print(lasso.coef_)"
   ]
  },
  {
   "cell_type": "markdown",
   "metadata": {
    "slideshow": {
     "slide_type": "fragment"
    }
   },
   "source": [
    "Lasso works very well, can do feature selection!"
   ]
  },
  {
   "cell_type": "markdown",
   "metadata": {
    "slideshow": {
     "slide_type": "slide"
    }
   },
   "source": [
    "# Probability theory"
   ]
  },
  {
   "cell_type": "markdown",
   "metadata": {
    "slideshow": {
     "slide_type": "skip"
    }
   },
   "source": [
    "$$\\DeclareMathOperator*{\\argmax}{argmax} $$\n",
    "$$\\DeclareMathOperator*{\\argmin}{argmin} $$"
   ]
  },
  {
   "cell_type": "markdown",
   "metadata": {
    "slideshow": {
     "slide_type": "slide"
    }
   },
   "source": [
    "### Preview of how we'll use probability:\n",
    "\n",
    "$\\Theta = (\\theta_0,...,\\theta_d)$\n",
    "\n",
    "Imagine $\\Theta$ lives in the space of all possible parameters. We will want to find the \"most likely\" $\\Theta$ given the data $\\mathcal{D}$. That is, find:\n",
    " $$\\argmax_\\Theta  p(\\Theta|\\mathcal{D}). $$"
   ]
  },
  {
   "cell_type": "markdown",
   "metadata": {
    "slideshow": {
     "slide_type": "slide"
    }
   },
   "source": [
    "### Probability: notations\n",
    "\n",
    "* If $A$ is an _event_, $P(A)$ denotes the _probability of $A$_. \n",
    "* $P(A)$ is a number between 0 and 1.\n",
    "---\n",
    "* If $A, B$ are 2 events, the probability of \"$A$ and $B$\" is denoted by $P(A, B)$ (also sometimes written as $P(A\\cap B)$).\n",
    "\n",
    "\n"
   ]
  },
  {
   "cell_type": "markdown",
   "metadata": {
    "slideshow": {
     "slide_type": "slide"
    }
   },
   "source": [
    "### Probability: conditional\n",
    "* Given _events_ $A, B$, we denote $P(A|B)$ the conditional probablity of $A$ given $B$, and it is defined as:\n",
    "$$\n",
    "P(A|B) := \\frac{P(A,B)}{P(B)}\n",
    "$$"
   ]
  },
  {
   "cell_type": "markdown",
   "metadata": {
    "slideshow": {
     "slide_type": "fragment"
    }
   },
   "source": [
    "**Example**: Given a population of people, each person has `age` and `height` attributes, let $A$=\"`age < 10`\" and $B$=\"`height > 1.6m`\".\n",
    "\n",
    "Let $T$ be the total number of people.\n",
    "$$\n",
    "P(A|B) = \\frac{P(A,B)}{P(B)} = \\frac{\\text{#( age<10 and height>1.6 )} / T}{\\text{#( height>1.6 )} / T}\n",
    "$$\n",
    "$$\n",
    "P(A|B) = \\frac{\\text{#( age<10 and height>1.6 )} }{\\text{#( height>1.6 )} }\n",
    "$$"
   ]
  },
  {
   "cell_type": "markdown",
   "metadata": {
    "slideshow": {
     "slide_type": "fragment"
    }
   },
   "source": [
    "You can think of $P(A|B)$ as probability of $A$ in the _restricted population of just $B$_."
   ]
  },
  {
   "cell_type": "markdown",
   "metadata": {
    "slideshow": {
     "slide_type": "slide"
    }
   },
   "source": [
    "### Bayes' rule: (on events)\n",
    "Given the definition $P(A|B) := \\frac{P(A,B)}{P(B)}$ for any 2 events $A, B$, it follows that:\n",
    "$$\n",
    "P(A|B) = \\frac{P(B|A) . P(A)}{P(B)}\n",
    "$$"
   ]
  },
  {
   "cell_type": "markdown",
   "metadata": {
    "slideshow": {
     "slide_type": "subslide"
    }
   },
   "source": [
    "$P(A|B) P(B) = P(A, B) = P(B|A)P(A)$\n",
    "So $$\n",
    "P(A|B) = \\frac{P(B|A) P(A)}{P(B)}\n",
    "$$"
   ]
  },
  {
   "cell_type": "markdown",
   "metadata": {
    "slideshow": {
     "slide_type": "slide"
    }
   },
   "source": [
    "### Continuous random variable\n",
    "If $x$ is a continuous random variable, $p(x)$ denotes the density function of $x$.\n",
    "+ For example: The bell curve - density function for a Gaussian/Normal random variable\n",
    "+ **Note**: Writing $p(x)$ is slight abuse of mathematical notation, since $x$ here means both the random variable and the possible $\\mathbb{R}$ values of this variable. (The proper way is to name the random variable $X$ and its density $p_X(x)$, but we will go with $p(x)$ for short. Just remember that $p(x)$ and $p(y)$ are different density functions even though they are both named $p$)"
   ]
  },
  {
   "cell_type": "code",
   "execution_count": 5,
   "metadata": {
    "slideshow": {
     "slide_type": "subslide"
    }
   },
   "outputs": [
    {
     "data": {
      "image/png": "[encoded data removed]",
      "text/plain": [
       "<matplotlib.figure.Figure at 0x7fea39d1dd50>"
      ]
     },
     "metadata": {
      "needs_background": "light"
     },
     "output_type": "display_data"
    }
   ],
   "source": [
    "plot_gaussian_density()"
   ]
  },
  {
   "cell_type": "markdown",
   "metadata": {
    "slideshow": {
     "slide_type": "fragment"
    }
   },
   "source": [
    "**Question**: what properties must a probability density function have?"
   ]
  },
  {
   "cell_type": "code",
   "execution_count": 6,
   "metadata": {
    "slideshow": {
     "slide_type": "slide"
    }
   },
   "outputs": [
    {
     "data": {
      "image/png": "[encoded data removed]",
      "text/plain": [
       "<matplotlib.figure.Figure at 0x7fea39ade050>"
      ]
     },
     "metadata": {
      "needs_background": "light"
     },
     "output_type": "display_data"
    }
   ],
   "source": [
    "plot_gaussian_density()"
   ]
  },
  {
   "cell_type": "markdown",
   "metadata": {
    "slideshow": {
     "slide_type": "fragment"
    }
   },
   "source": [
    "$$\\int_{-\\infty}^\\infty p(x)dx = 1$$\n",
    "* $x$ in the above equation is simply the possible real values of the random variable whose density function is $p$."
   ]
  },
  {
   "cell_type": "markdown",
   "metadata": {
    "slideshow": {
     "slide_type": "fragment"
    }
   },
   "source": [
    "If $\\mathbf{x}=(x_1, x_2)$ is 2-dimensional\n",
    "$$\\int p(\\mathbf{x}) d\\mathbf{x} = \\iint p(x_1, x_2) dx_1 dx_2 = 1.$$\n",
    "This generalizes to $\\mathbf{x}$ of any dimension.\n",
    "\n",
    "(Draw figure)"
   ]
  },
  {
   "cell_type": "markdown",
   "metadata": {
    "slideshow": {
     "slide_type": "slide"
    }
   },
   "source": [
    "### Joint and marginals\n",
    "Let $x, y$ be 2 continuous real valued random variables. (For example `(age, height)` of members of a population.)\n",
    "* $p(x,y)$ is called the joint probability distribution of $x, y$.\n",
    "* $p(x)$ and $p(y)$ are the marginal distributions. We have\n",
    "$$p(x) = \\int_{-\\infty}^\\infty p(x,y) dy$$\n",
    "and \n",
    "$$p(y) = \\int_{-\\infty}^\\infty p(x,y) dx$$\n"
   ]
  },
  {
   "cell_type": "markdown",
   "metadata": {
    "slideshow": {
     "slide_type": "slide"
    }
   },
   "source": [
    "### Marginal distributions\n",
    "![alt text](https://upload.wikimedia.org/wikipedia/commons/8/8e/MultivariateNormal.png \"Logo Title Text 1\")"
   ]
  },
  {
   "cell_type": "markdown",
   "metadata": {
    "slideshow": {
     "slide_type": "slide"
    }
   },
   "source": [
    "### Conditional density\n",
    "$$p(x|y) := \\frac{p(x, y)}{p(y)} = \\frac{p(x,y)}{\\int_{-\\infty}^\\infty p(x,y)dx} $$ \n",
    "**Note:**\n",
    "* $p(x|y)$ is a function of 1 variable over $x$, but for each different $y$ we have a different such function."
   ]
  },
  {
   "cell_type": "markdown",
   "metadata": {
    "slideshow": {
     "slide_type": "fragment"
    }
   },
   "source": [
    "#### Bayes' rule for densities:\n",
    "$$\n",
    "p(x|y) = \\frac{p(y|x)p(x)}{p(y)} \n",
    "$$\n",
    "* The denominator $p(y)$ is constant as $x$ varies. So we can think of it as a normalizing constant. Thus $p(x|y)$ is proportional to $p(y|x)p(x)$ as functions of $x$. (Think of $y$ as fixed).\n",
    "* We write $p(x|y) \\propto p(y|x)p(x)$ to indicate that these functions are proportional."
   ]
  },
  {
   "cell_type": "markdown",
   "metadata": {
    "slideshow": {
     "slide_type": "slide"
    }
   },
   "source": [
    "### Being bayesian:\n",
    "The Bayes' rule from previous slide extend to higher dimensions - from $x,y$ to vectors $\\mathbf{x}, \\mathbf{y}$\n",
    "\n",
    "We can apply the general Bayes' rule for: $\\Theta$ the vector of model parameters, and $\\mathcal{D}$ the vector of observed data points:\n",
    "$$\n",
    "p(\\Theta|\\mathcal{D}) = \\frac{p(\\mathcal{D}|\\Theta)p(\\Theta)}{p(\\mathcal{D})} \n",
    "$$\n",
    "Each term has a meaning:\n",
    "- $p(\\Theta|\\mathcal{D})$ (the posterior): our belief as to which parameters are likely after observing data\n",
    "- $p(\\Theta)$ (the prior): our belief as to which parameters are likely before observing data\n",
    "- $p(\\mathcal{D}|\\Theta)$ (the likelihood): how likely to have observed $\\mathcal{D}$ given model $\\Theta$\n",
    "- $p(\\mathcal{D})$: the normalizing constant.\n"
   ]
  },
  {
   "cell_type": "markdown",
   "metadata": {
    "slideshow": {
     "slide_type": "slide"
    }
   },
   "source": [
    "$$\n",
    "p(\\Theta|\\mathcal{D}) \\propto p(\\mathcal{D}|\\Theta)p(\\Theta)\n",
    "$$\n",
    "### Goal:\n",
    "\n",
    "- Find the $\\Theta$ that maximizes $p(\\Theta|\\mathcal{D})$. (That is, find $\\argmax_\\Theta p(\\Theta|\\mathcal{D})$.) This is called the maximum a posteriori (MAP) estimate. By Bayes' rule, this is equivalent to maximizing ${p(\\mathcal{D}|\\Theta)p(\\Theta)}$.\n"
   ]
  },
  {
   "cell_type": "markdown",
   "metadata": {
    "slideshow": {
     "slide_type": "fragment"
    }
   },
   "source": [
    "- If we assume a uniform prior: $p(\\Theta)$ is a constant, then the above is equivalent to only maximizing the likelihood: $p(\\mathcal{D}|\\Theta)$. This is called the maximum likelihood estimate (MLE).\n",
    "\n",
    "**Note**: MLE is a special case of MAP when we assume uniform prior."
   ]
  },
  {
   "cell_type": "markdown",
   "metadata": {
    "slideshow": {
     "slide_type": "slide"
    }
   },
   "source": [
    "### Back to linear regression:\n",
    "Recall the hypothesis for linear regression:\n",
    "$$\n",
    "y = \\Theta^T \\mathbf{x} + \\epsilon\n",
    "$$\n",
    "where $\\epsilon \\sim \\mathcal{N}(0, \\sigma^2)$."
   ]
  },
  {
   "cell_type": "markdown",
   "metadata": {
    "slideshow": {
     "slide_type": "fragment"
    }
   },
   "source": [
    "That's equivalent to $y \\sim \\mathcal{N}(\\Theta^T \\mathbf{x}, \\sigma^2)$."
   ]
  },
  {
   "cell_type": "markdown",
   "metadata": {
    "slideshow": {
     "slide_type": "fragment"
    }
   },
   "source": [
    "So\n",
    "$$\n",
    "    p(y|\\mathbf{x}, \\Theta) = \\frac{1}{\\sqrt{2\\pi\\sigma^2}}\\exp\\left(-\\frac{(y - \\Theta^T\\mathbf{x})^2}{2\\sigma^2}\\right).\n",
    "$$"
   ]
  },
  {
   "cell_type": "markdown",
   "metadata": {
    "slideshow": {
     "slide_type": "slide"
    }
   },
   "source": [
    "Expanding \"data\" $\\mathcal{D} = \\mathbf{x}^{(1)}, y^{(1)}, ... \\mathbf{x}^{(m)}, y^{(m)} $ we have \n",
    "\n",
    "Maximizing $p(\\mathcal{D}|\\Theta)$ $\\iff$ maximizing $p(\\mathbf{x}^{(1)}, y^{(1)}, ... \\mathbf{x}^{(m)}, y^{(m)} | \\Theta)$"
   ]
  },
  {
   "cell_type": "markdown",
   "metadata": {
    "slideshow": {
     "slide_type": "fragment"
    }
   },
   "source": [
    "$\\iff$ maximizing  $ \\prod_{i=1}^m p(\\mathbf{x}^{(i)}, y^{(i)}|\\Theta)$"
   ]
  },
  {
   "cell_type": "markdown",
   "metadata": {
    "slideshow": {
     "slide_type": "fragment"
    }
   },
   "source": [
    "$\\iff$ maximizing $ \\log\\left(\\prod_{i=1}^m p(\\mathbf{x}^{(i)}, y^{(i)}|\\Theta)\\right) =  \\sum_{i=1}^{m}\\log\\left(p(\\mathbf{x}^{(i)}, y^{(i)}|\\Theta)\\right)$"
   ]
  },
  {
   "cell_type": "markdown",
   "metadata": {
    "slideshow": {
     "slide_type": "fragment"
    }
   },
   "source": [
    "$\\iff$ minimizing $ -  \\sum_{i=1}^{m}\\log\\left(p(\\mathbf{x}^{(i)}, y^{(i)}|\\Theta)\\right)$"
   ]
  },
  {
   "cell_type": "markdown",
   "metadata": {
    "slideshow": {
     "slide_type": "subslide"
    }
   },
   "source": [
    "$\\iff$ minimizing $ -  \\sum_{i=1}^{m}\\log\\left(p(\\mathbf{x}^{(i)}, y^{(i)}|\\Theta)\\right)$"
   ]
  },
  {
   "cell_type": "markdown",
   "metadata": {
    "slideshow": {
     "slide_type": "fragment"
    }
   },
   "source": [
    "$\\iff$ minimizing $ - \\sum_{i=1}^{m}\\log\\left[\\left(p(y^{(i)}|\\mathbf{x}^{(i)}, \\Theta)\\right) \\left(  p(\\mathbf{x}^{(i)}|\\Theta)\\right)\\right]$ $= - \\sum_{i=1}^{m}\\log\\left[\\left(p(y^{(i)}|\\mathbf{x}^{(i)}, \\Theta)\\right) \\left(  p(\\mathbf{x}^{(i)})\\right)\\right]$"
   ]
  },
  {
   "cell_type": "markdown",
   "metadata": {
    "slideshow": {
     "slide_type": "fragment"
    }
   },
   "source": [
    "$\\iff$ minimizing  $- \\sum_{i=1}^{m}\\log\\left(p(y^{(i)}|\\mathbf{x}^{(i)}, \\Theta)\\right) - \\sum_{i=1}^m \\log\\left(  p(\\mathbf{x}^{(i)})\\right)$"
   ]
  },
  {
   "cell_type": "markdown",
   "metadata": {
    "slideshow": {
     "slide_type": "subslide"
    }
   },
   "source": [
    "$\\iff$ minimizing  $- \\sum_{i=1}^{m}\\log\\left(p(y^{(i)}|\\mathbf{x}^{(i)}, \\Theta)\\right)$"
   ]
  },
  {
   "cell_type": "markdown",
   "metadata": {
    "slideshow": {
     "slide_type": "fragment"
    }
   },
   "source": [
    "$\\iff$ minimizing  $$- \\sum_{i=1}^{m}\\log\\left(\\frac{1}{\\sqrt{2\\pi\\sigma^2}}\\exp\\left(-\\frac{(y^{(i)} - \\Theta^T\\mathbf{x}^{(i)})^2}{2\\sigma^2}\\right)\\right)$$"
   ]
  },
  {
   "cell_type": "markdown",
   "metadata": {
    "slideshow": {
     "slide_type": "fragment"
    }
   },
   "source": [
    "$\\iff$ minimizing  $$- \\sum_{i=1}^m\\log\\left(\\frac{1}{\\sqrt{2\\pi\\sigma^2}}\\right) + \\sum_{i=1}^m\\frac{(y^{(i)} -\\Theta^T\\mathbf{x}^{(i)})^2}{2\\sigma^2}$$"
   ]
  },
  {
   "cell_type": "markdown",
   "metadata": {
    "slideshow": {
     "slide_type": "fragment"
    }
   },
   "source": [
    "$\\iff$ minimizing  $$ \\sum_{i=1}^m(y^{(i)} -\\Theta^T\\mathbf{x}^{(i)})^2$$"
   ]
  },
  {
   "cell_type": "markdown",
   "metadata": {
    "slideshow": {
     "slide_type": "slide"
    }
   },
   "source": [
    "### Conclusion:\n",
    "$$\\text{minimizing } \\frac{1}{m}\\sum_{i=1}^m {(y^{(i)} - \\Theta^T\\mathbf{x}^{(i)} )^2}\n",
    "\\iff \\text{maximizing } p(\\mathcal{D}|\\Theta)\n",
    "$$\n"
   ]
  },
  {
   "cell_type": "markdown",
   "metadata": {
    "slideshow": {
     "slide_type": "fragment"
    }
   },
   "source": [
    "### Exercise:\n",
    "1. Follow the previous slides, prove that the Lasso objective:\n",
    "$$\\text{minimizing } \\frac{1}{m}\\sum_{i=1}^m {(y^{(i)} - \\Theta^T\\mathbf{x}^{(i)} )^2} + \\left(\\alpha  \\sum_{i=0}^d \\theta_d\\right),$$\n",
    "$\\iff$ maximizing $p(\\mathcal{D}|\\Theta) p(\\Theta)$ (the MAP estimate). What prior density $p(\\Theta)$ give rise to the above Lasso objective?"
   ]
  },
  {
   "cell_type": "markdown",
   "metadata": {
    "slideshow": {
     "slide_type": "fragment"
    }
   },
   "source": [
    "2. The _cross entropy_ classification loss is also equivalent to MLE. Google search \"cross entropy and maximum likelihood estimation\" and do some reading."
   ]
  }
 ],
 "metadata": {
  "celltoolbar": "Slideshow",
  "kernelspec": {
   "display_name": "Python 2",
   "language": "python",
   "name": "python2"
  },
  "language_info": {
   "codemirror_mode": {
    "name": "ipython",
    "version": 2
   },
   "file_extension": ".py",
   "mimetype": "text/x-python",
   "name": "python",
   "nbconvert_exporter": "python",
   "pygments_lexer": "ipython2",
   "version": "2.7.15"
  }
 },
 "nbformat": 4,
 "nbformat_minor": 2
}
