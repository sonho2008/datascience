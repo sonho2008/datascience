{
 "cells": [
  {
   "cell_type": "markdown",
   "metadata": {},
   "source": [
    "### Setting up Python and packages\n"
   ]
  },
  {
   "cell_type": "markdown",
   "metadata": {},
   "source": [
    "#### I. Python and anaconda\n",
    "Anaconda is a package management system that is highly recommended for Python. To download go here:\n",
    "\n",
    "https://www.anaconda.com/download/\n",
    "\n",
    "and follow the instructions. Just download the latest version with Python 3.x, you can always install a different version of Python later on with a separate conda environment. Afterwards, open a terminal/command prompt and type:\n",
    "```bash\n",
    "python -V\n",
    "```\n",
    "You should get a response showing the version of python installed. To check that you have Anaconda installed, type:\n",
    "```bash\n",
    "conda -V\n",
    "```"
   ]
  },
  {
   "cell_type": "markdown",
   "metadata": {},
   "source": [
    "#### II. Essential packages\n",
    "To show all the packages that are currently installed, enter the command:\n",
    "```bash\n",
    "conda list \n",
    "```\n",
    "To install a package, for example `numpy`, type in\n",
    "```bash\n",
    "conda install numpy\n",
    "```\n",
    "Below is the list of essential packages for data analysis and visualizations. Make sure you have all of them installed.\n",
    "\n",
    "`pip, ipython, numpy, pandas, matplotlib, seaborn`\n",
    "\n",
    "The most important packages to be familiar with is `pandas`. After that it's `matplotlib.pyplot` (hard but powerful), and `seaborn` (easier) for visualizations. There's complete online documentations and examples for them here:\n",
    "\n",
    "http://pandas.pydata.org/pandas-docs/stable/10min.html\n",
    "\n",
    "https://matplotlib.org/gallery.html#\n",
    "\n",
    "https://seaborn.pydata.org/tutorial.html\n",
    "\n",
    "\n",
    "\n",
    "\n",
    "\n",
    "\n",
    "Optional but useful packages are: `jupyter, scipy, statsmodels, rpy2`.\n"
   ]
  },
  {
   "cell_type": "markdown",
   "metadata": {},
   "source": [
    "#### III. The console\n",
    "Typing `python` will change the terminal to a basic python console. There is a better and more interactive console with auto-complete feature, open it by simply enter the command `ipython`. Now you can test out Python codes in this console. Try entering these commands:"
   ]
  },
  {
   "cell_type": "code",
   "execution_count": 6,
   "metadata": {},
   "outputs": [
    {
     "data": {
      "image/png": "[encoded data removed]",
      "text/plain": [
       "<matplotlib.figure.Figure at 0x244aa644b00>"
      ]
     },
     "metadata": {},
     "output_type": "display_data"
    }
   ],
   "source": [
    "import pandas as pd\n",
    "import matplotlib.pyplot as plt\n",
    "df = pd.DataFrame([[1,2],[4,3],[6,2]], columns=['a','b'])\n",
    "df.plot()\n",
    "plt.show()"
   ]
  },
  {
   "cell_type": "markdown",
   "metadata": {},
   "source": [
    "You should get a pop up figure like above. There are many options to customize your plots too. Imagine that you can do a `for` loop to read in data from csv files and then create hundreds of plots in seconds, all the possibilities...\n",
    "\n",
    "Now to exit the console, simply type `exit()`."
   ]
  }
 ],
 "metadata": {
  "kernelspec": {
   "display_name": "Python 3",
   "language": "python",
   "name": "python3"
  },
  "language_info": {
   "codemirror_mode": {
    "name": "ipython",
    "version": 3
   },
   "file_extension": ".py",
   "mimetype": "text/x-python",
   "name": "python",
   "nbconvert_exporter": "python",
   "pygments_lexer": "ipython3",
   "version": "3.5.3"
  }
 },
 "nbformat": 4,
 "nbformat_minor": 2
}
